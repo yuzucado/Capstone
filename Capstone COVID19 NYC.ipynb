{
 "cells": [
  {
   "cell_type": "code",
   "execution_count": 1,
   "metadata": {},
   "outputs": [],
   "source": [
    "import pandas as pd\n",
    "import matplotlib.pyplot as plt\n",
    "import seaborn as sns\n",
    "%matplotlib inline"
   ]
  },
  {
   "cell_type": "code",
   "execution_count": 2,
   "metadata": {},
   "outputs": [],
   "source": [
    "#importing the data\n",
    "df = pd.read_csv('https://raw.githubusercontent.com/yuzucado/NYCCOVID/main/COVID-19_Daily_Counts_of_Cases__Hospitalizations__and_Deaths.csv')"
   ]
  },
  {
   "cell_type": "markdown",
   "metadata": {},
   "source": [
    "I'd like to look at NYC COVID-19 data about confirmed case count, death count, hospitalization count, and how they has changed over time. "
   ]
  },
  {
   "cell_type": "code",
   "execution_count": 3,
   "metadata": {
    "scrolled": true
   },
   "outputs": [
    {
     "name": "stdout",
     "output_type": "stream",
     "text": [
      "<class 'pandas.core.frame.DataFrame'>\n",
      "RangeIndex: 795 entries, 0 to 794\n",
      "Data columns (total 62 columns):\n",
      " #   Column                          Non-Null Count  Dtype \n",
      "---  ------                          --------------  ----- \n",
      " 0   DATE_OF_INTEREST                795 non-null    object\n",
      " 1   CASE_COUNT                      795 non-null    int64 \n",
      " 2   probable_case_count             795 non-null    int64 \n",
      " 3   HOSPITALIZED_COUNT              795 non-null    int64 \n",
      " 4   DEATH_COUNT                     795 non-null    int64 \n",
      " 5   DEATH_COUNT_PROBABLE            795 non-null    int64 \n",
      " 6   CASE_COUNT_7DAY_AVG             795 non-null    int64 \n",
      " 7   all_case_count_7day_avg         795 non-null    int64 \n",
      " 8   HOSP_COUNT_7DAY_AVG             795 non-null    int64 \n",
      " 9   DEATH_COUNT_7DAY_AVG            795 non-null    int64 \n",
      " 10  all_death_count_7day_avg        795 non-null    int64 \n",
      " 11  BX_CASE_COUNT                   795 non-null    int64 \n",
      " 12  bx_probable_case_count          795 non-null    int64 \n",
      " 13  BX_HOSPITALIZED_COUNT           795 non-null    int64 \n",
      " 14  BX_DEATH_COUNT                  795 non-null    int64 \n",
      " 15  bx_probable_death_count         795 non-null    int64 \n",
      " 16  BX_CASE_COUNT_7DAY_AVG          795 non-null    int64 \n",
      " 17  bx_all_case_count_7day_avg      795 non-null    int64 \n",
      " 18  BX_HOSPITALIZED_COUNT_7DAY_AVG  795 non-null    int64 \n",
      " 19  BX_DEATH_COUNT_7DAY_AVG         795 non-null    int64 \n",
      " 20  bx_all_death_count_7day_avg     795 non-null    int64 \n",
      " 21  BK_CASE_COUNT                   795 non-null    int64 \n",
      " 22  bk_probable_case_count          795 non-null    int64 \n",
      " 23  BK_HOSPITALIZED_COUNT           795 non-null    int64 \n",
      " 24  BK_DEATH_COUNT                  795 non-null    int64 \n",
      " 25  bk_probable_death_count         795 non-null    int64 \n",
      " 26  BK_CASE_COUNT_7DAY_AVG          795 non-null    int64 \n",
      " 27  bk_all_case_count_7day_avg      795 non-null    int64 \n",
      " 28  BK_HOSPITALIZED_COUNT_7DAY_AVG  795 non-null    int64 \n",
      " 29  BK_DEATH_COUNT_7DAY_AVG         795 non-null    int64 \n",
      " 30  bk_all_death_count_7day_avg     795 non-null    int64 \n",
      " 31  MN_CASE_COUNT                   795 non-null    int64 \n",
      " 32  mn_probable_case_count          795 non-null    int64 \n",
      " 33  MN_HOSPITALIZED_COUNT           795 non-null    int64 \n",
      " 34  MN_DEATH_COUNT                  795 non-null    int64 \n",
      " 35  mn_probable_death_count         795 non-null    int64 \n",
      " 36  MN_CASE_COUNT_7DAY_AVG          795 non-null    int64 \n",
      " 37  mn_all_case_count_7day_avg      795 non-null    int64 \n",
      " 38  MN_HOSPITALIZED_COUNT_7DAY_AVG  795 non-null    int64 \n",
      " 39  MN_DEATH_COUNT_7DAY_AVG         795 non-null    int64 \n",
      " 40  mn_all_death_count_7day_avg     795 non-null    int64 \n",
      " 41  QN_CASE_COUNT                   795 non-null    int64 \n",
      " 42  qn_probable_case_count          795 non-null    int64 \n",
      " 43  QN_HOSPITALIZED_COUNT           795 non-null    int64 \n",
      " 44  QN_DEATH_COUNT                  795 non-null    int64 \n",
      " 45  qn_probable_death_count         795 non-null    int64 \n",
      " 46  QN_CASE_COUNT_7DAY_AVG          795 non-null    int64 \n",
      " 47  qn_all_case_count_7day_avg      795 non-null    int64 \n",
      " 48  QN_HOSPITALIZED_COUNT_7DAY_AVG  795 non-null    int64 \n",
      " 49  QN_DEATH_COUNT_7DAY_AVG         795 non-null    int64 \n",
      " 50  qn_all_death_count_7day_avg     795 non-null    int64 \n",
      " 51  SI_CASE_COUNT                   795 non-null    int64 \n",
      " 52  si_probable_case_count          795 non-null    int64 \n",
      " 53  SI_HOSPITALIZED_COUNT           795 non-null    int64 \n",
      " 54  SI_DEATH_COUNT                  795 non-null    int64 \n",
      " 55  si_probable_death_count         795 non-null    int64 \n",
      " 56  SI_CASE_COUNT_7DAY_AVG          795 non-null    int64 \n",
      " 57  si_all_case_count_7day_avg      795 non-null    int64 \n",
      " 58  SI_HOSPITALIZED_COUNT_7DAY_AVG  795 non-null    int64 \n",
      " 59  SI_DEATH_COUNT_7DAY_AVG         795 non-null    int64 \n",
      " 60  si_all_death_count_7day_avg     795 non-null    int64 \n",
      " 61  INCOMPLETE                      795 non-null    int64 \n",
      "dtypes: int64(61), object(1)\n",
      "memory usage: 382.0+ KB\n"
     ]
    }
   ],
   "source": [
    "#check the info so I can have the column header and dtype in a glance\n",
    "df.info()"
   ]
  },
  {
   "cell_type": "code",
   "execution_count": 4,
   "metadata": {
    "scrolled": true
   },
   "outputs": [
    {
     "data": {
      "text/html": [
       "<div>\n",
       "<style scoped>\n",
       "    .dataframe tbody tr th:only-of-type {\n",
       "        vertical-align: middle;\n",
       "    }\n",
       "\n",
       "    .dataframe tbody tr th {\n",
       "        vertical-align: top;\n",
       "    }\n",
       "\n",
       "    .dataframe thead th {\n",
       "        text-align: right;\n",
       "    }\n",
       "</style>\n",
       "<table border=\"1\" class=\"dataframe\">\n",
       "  <thead>\n",
       "    <tr style=\"text-align: right;\">\n",
       "      <th></th>\n",
       "      <th>DATE_OF_INTEREST</th>\n",
       "      <th>CASE_COUNT</th>\n",
       "      <th>probable_case_count</th>\n",
       "      <th>HOSPITALIZED_COUNT</th>\n",
       "      <th>DEATH_COUNT</th>\n",
       "      <th>DEATH_COUNT_PROBABLE</th>\n",
       "      <th>CASE_COUNT_7DAY_AVG</th>\n",
       "      <th>all_case_count_7day_avg</th>\n",
       "      <th>HOSP_COUNT_7DAY_AVG</th>\n",
       "      <th>DEATH_COUNT_7DAY_AVG</th>\n",
       "      <th>...</th>\n",
       "      <th>si_probable_case_count</th>\n",
       "      <th>SI_HOSPITALIZED_COUNT</th>\n",
       "      <th>SI_DEATH_COUNT</th>\n",
       "      <th>si_probable_death_count</th>\n",
       "      <th>SI_CASE_COUNT_7DAY_AVG</th>\n",
       "      <th>si_all_case_count_7day_avg</th>\n",
       "      <th>SI_HOSPITALIZED_COUNT_7DAY_AVG</th>\n",
       "      <th>SI_DEATH_COUNT_7DAY_AVG</th>\n",
       "      <th>si_all_death_count_7day_avg</th>\n",
       "      <th>INCOMPLETE</th>\n",
       "    </tr>\n",
       "  </thead>\n",
       "  <tbody>\n",
       "    <tr>\n",
       "      <th>790</th>\n",
       "      <td>4/29/2022</td>\n",
       "      <td>2369</td>\n",
       "      <td>585</td>\n",
       "      <td>57</td>\n",
       "      <td>2</td>\n",
       "      <td>0</td>\n",
       "      <td>2110</td>\n",
       "      <td>2685</td>\n",
       "      <td>60</td>\n",
       "      <td>4</td>\n",
       "      <td>...</td>\n",
       "      <td>39</td>\n",
       "      <td>5</td>\n",
       "      <td>0</td>\n",
       "      <td>0</td>\n",
       "      <td>134</td>\n",
       "      <td>168</td>\n",
       "      <td>4</td>\n",
       "      <td>0</td>\n",
       "      <td>0</td>\n",
       "      <td>60800</td>\n",
       "    </tr>\n",
       "    <tr>\n",
       "      <th>791</th>\n",
       "      <td>4/30/2022</td>\n",
       "      <td>1368</td>\n",
       "      <td>516</td>\n",
       "      <td>57</td>\n",
       "      <td>6</td>\n",
       "      <td>0</td>\n",
       "      <td>2122</td>\n",
       "      <td>2710</td>\n",
       "      <td>61</td>\n",
       "      <td>4</td>\n",
       "      <td>...</td>\n",
       "      <td>20</td>\n",
       "      <td>5</td>\n",
       "      <td>2</td>\n",
       "      <td>0</td>\n",
       "      <td>137</td>\n",
       "      <td>170</td>\n",
       "      <td>4</td>\n",
       "      <td>1</td>\n",
       "      <td>1</td>\n",
       "      <td>60800</td>\n",
       "    </tr>\n",
       "    <tr>\n",
       "      <th>792</th>\n",
       "      <td>5/1/2022</td>\n",
       "      <td>1556</td>\n",
       "      <td>576</td>\n",
       "      <td>44</td>\n",
       "      <td>3</td>\n",
       "      <td>1</td>\n",
       "      <td>2153</td>\n",
       "      <td>2760</td>\n",
       "      <td>61</td>\n",
       "      <td>4</td>\n",
       "      <td>...</td>\n",
       "      <td>35</td>\n",
       "      <td>1</td>\n",
       "      <td>0</td>\n",
       "      <td>0</td>\n",
       "      <td>129</td>\n",
       "      <td>163</td>\n",
       "      <td>4</td>\n",
       "      <td>0</td>\n",
       "      <td>1</td>\n",
       "      <td>60800</td>\n",
       "    </tr>\n",
       "    <tr>\n",
       "      <th>793</th>\n",
       "      <td>5/2/2022</td>\n",
       "      <td>3129</td>\n",
       "      <td>873</td>\n",
       "      <td>28</td>\n",
       "      <td>0</td>\n",
       "      <td>1</td>\n",
       "      <td>2230</td>\n",
       "      <td>2856</td>\n",
       "      <td>57</td>\n",
       "      <td>4</td>\n",
       "      <td>...</td>\n",
       "      <td>58</td>\n",
       "      <td>1</td>\n",
       "      <td>0</td>\n",
       "      <td>0</td>\n",
       "      <td>132</td>\n",
       "      <td>169</td>\n",
       "      <td>3</td>\n",
       "      <td>0</td>\n",
       "      <td>1</td>\n",
       "      <td>60800</td>\n",
       "    </tr>\n",
       "    <tr>\n",
       "      <th>794</th>\n",
       "      <td>5/3/2022</td>\n",
       "      <td>2457</td>\n",
       "      <td>928</td>\n",
       "      <td>0</td>\n",
       "      <td>3</td>\n",
       "      <td>1</td>\n",
       "      <td>2214</td>\n",
       "      <td>2885</td>\n",
       "      <td>47</td>\n",
       "      <td>3</td>\n",
       "      <td>...</td>\n",
       "      <td>62</td>\n",
       "      <td>0</td>\n",
       "      <td>0</td>\n",
       "      <td>1</td>\n",
       "      <td>131</td>\n",
       "      <td>171</td>\n",
       "      <td>3</td>\n",
       "      <td>0</td>\n",
       "      <td>0</td>\n",
       "      <td>60800</td>\n",
       "    </tr>\n",
       "  </tbody>\n",
       "</table>\n",
       "<p>5 rows × 62 columns</p>\n",
       "</div>"
      ],
      "text/plain": [
       "    DATE_OF_INTEREST  CASE_COUNT  probable_case_count  HOSPITALIZED_COUNT  \\\n",
       "790        4/29/2022        2369                  585                  57   \n",
       "791        4/30/2022        1368                  516                  57   \n",
       "792         5/1/2022        1556                  576                  44   \n",
       "793         5/2/2022        3129                  873                  28   \n",
       "794         5/3/2022        2457                  928                   0   \n",
       "\n",
       "     DEATH_COUNT  DEATH_COUNT_PROBABLE  CASE_COUNT_7DAY_AVG  \\\n",
       "790            2                     0                 2110   \n",
       "791            6                     0                 2122   \n",
       "792            3                     1                 2153   \n",
       "793            0                     1                 2230   \n",
       "794            3                     1                 2214   \n",
       "\n",
       "     all_case_count_7day_avg  HOSP_COUNT_7DAY_AVG  DEATH_COUNT_7DAY_AVG  ...  \\\n",
       "790                     2685                   60                     4  ...   \n",
       "791                     2710                   61                     4  ...   \n",
       "792                     2760                   61                     4  ...   \n",
       "793                     2856                   57                     4  ...   \n",
       "794                     2885                   47                     3  ...   \n",
       "\n",
       "     si_probable_case_count  SI_HOSPITALIZED_COUNT  SI_DEATH_COUNT  \\\n",
       "790                      39                      5               0   \n",
       "791                      20                      5               2   \n",
       "792                      35                      1               0   \n",
       "793                      58                      1               0   \n",
       "794                      62                      0               0   \n",
       "\n",
       "     si_probable_death_count  SI_CASE_COUNT_7DAY_AVG  \\\n",
       "790                        0                     134   \n",
       "791                        0                     137   \n",
       "792                        0                     129   \n",
       "793                        0                     132   \n",
       "794                        1                     131   \n",
       "\n",
       "     si_all_case_count_7day_avg  SI_HOSPITALIZED_COUNT_7DAY_AVG  \\\n",
       "790                         168                               4   \n",
       "791                         170                               4   \n",
       "792                         163                               4   \n",
       "793                         169                               3   \n",
       "794                         171                               3   \n",
       "\n",
       "     SI_DEATH_COUNT_7DAY_AVG  si_all_death_count_7day_avg  INCOMPLETE  \n",
       "790                        0                            0       60800  \n",
       "791                        1                            1       60800  \n",
       "792                        0                            1       60800  \n",
       "793                        0                            1       60800  \n",
       "794                        0                            0       60800  \n",
       "\n",
       "[5 rows x 62 columns]"
      ]
     },
     "execution_count": 4,
     "metadata": {},
     "output_type": "execute_result"
    }
   ],
   "source": [
    "#making sure the data are shown properly\n",
    "df.tail()"
   ]
  },
  {
   "cell_type": "code",
   "execution_count": 5,
   "metadata": {},
   "outputs": [],
   "source": [
    "#changing the data type of columne \"DATE_OF_INTEREST\" to datetime so I can break it up into year, month, and day in next step\n",
    "df['DATE_OF_INTEREST'] = pd.to_datetime(df['DATE_OF_INTEREST'], format='%m/%d/%Y')"
   ]
  },
  {
   "cell_type": "code",
   "execution_count": 6,
   "metadata": {},
   "outputs": [],
   "source": [
    "#creating year, month, day columns from column DATE_OF_INTEREST \n",
    "df['YEAR']= df['DATE_OF_INTEREST'].dt.year\n",
    "df['MONTH']= df['DATE_OF_INTEREST'].dt.month\n",
    "df['DAY']= df['DATE_OF_INTEREST'].dt.day"
   ]
  },
  {
   "cell_type": "code",
   "execution_count": 7,
   "metadata": {},
   "outputs": [
    {
     "data": {
      "text/html": [
       "<div>\n",
       "<style scoped>\n",
       "    .dataframe tbody tr th:only-of-type {\n",
       "        vertical-align: middle;\n",
       "    }\n",
       "\n",
       "    .dataframe tbody tr th {\n",
       "        vertical-align: top;\n",
       "    }\n",
       "\n",
       "    .dataframe thead th {\n",
       "        text-align: right;\n",
       "    }\n",
       "</style>\n",
       "<table border=\"1\" class=\"dataframe\">\n",
       "  <thead>\n",
       "    <tr style=\"text-align: right;\">\n",
       "      <th></th>\n",
       "      <th>DATE_OF_INTEREST</th>\n",
       "      <th>CASE_COUNT</th>\n",
       "      <th>probable_case_count</th>\n",
       "      <th>HOSPITALIZED_COUNT</th>\n",
       "      <th>DEATH_COUNT</th>\n",
       "      <th>DEATH_COUNT_PROBABLE</th>\n",
       "      <th>CASE_COUNT_7DAY_AVG</th>\n",
       "      <th>all_case_count_7day_avg</th>\n",
       "      <th>HOSP_COUNT_7DAY_AVG</th>\n",
       "      <th>DEATH_COUNT_7DAY_AVG</th>\n",
       "      <th>...</th>\n",
       "      <th>si_probable_death_count</th>\n",
       "      <th>SI_CASE_COUNT_7DAY_AVG</th>\n",
       "      <th>si_all_case_count_7day_avg</th>\n",
       "      <th>SI_HOSPITALIZED_COUNT_7DAY_AVG</th>\n",
       "      <th>SI_DEATH_COUNT_7DAY_AVG</th>\n",
       "      <th>si_all_death_count_7day_avg</th>\n",
       "      <th>INCOMPLETE</th>\n",
       "      <th>YEAR</th>\n",
       "      <th>MONTH</th>\n",
       "      <th>DAY</th>\n",
       "    </tr>\n",
       "  </thead>\n",
       "  <tbody>\n",
       "    <tr>\n",
       "      <th>790</th>\n",
       "      <td>2022-04-29</td>\n",
       "      <td>2369</td>\n",
       "      <td>585</td>\n",
       "      <td>57</td>\n",
       "      <td>2</td>\n",
       "      <td>0</td>\n",
       "      <td>2110</td>\n",
       "      <td>2685</td>\n",
       "      <td>60</td>\n",
       "      <td>4</td>\n",
       "      <td>...</td>\n",
       "      <td>0</td>\n",
       "      <td>134</td>\n",
       "      <td>168</td>\n",
       "      <td>4</td>\n",
       "      <td>0</td>\n",
       "      <td>0</td>\n",
       "      <td>60800</td>\n",
       "      <td>2022</td>\n",
       "      <td>4</td>\n",
       "      <td>29</td>\n",
       "    </tr>\n",
       "    <tr>\n",
       "      <th>791</th>\n",
       "      <td>2022-04-30</td>\n",
       "      <td>1368</td>\n",
       "      <td>516</td>\n",
       "      <td>57</td>\n",
       "      <td>6</td>\n",
       "      <td>0</td>\n",
       "      <td>2122</td>\n",
       "      <td>2710</td>\n",
       "      <td>61</td>\n",
       "      <td>4</td>\n",
       "      <td>...</td>\n",
       "      <td>0</td>\n",
       "      <td>137</td>\n",
       "      <td>170</td>\n",
       "      <td>4</td>\n",
       "      <td>1</td>\n",
       "      <td>1</td>\n",
       "      <td>60800</td>\n",
       "      <td>2022</td>\n",
       "      <td>4</td>\n",
       "      <td>30</td>\n",
       "    </tr>\n",
       "    <tr>\n",
       "      <th>792</th>\n",
       "      <td>2022-05-01</td>\n",
       "      <td>1556</td>\n",
       "      <td>576</td>\n",
       "      <td>44</td>\n",
       "      <td>3</td>\n",
       "      <td>1</td>\n",
       "      <td>2153</td>\n",
       "      <td>2760</td>\n",
       "      <td>61</td>\n",
       "      <td>4</td>\n",
       "      <td>...</td>\n",
       "      <td>0</td>\n",
       "      <td>129</td>\n",
       "      <td>163</td>\n",
       "      <td>4</td>\n",
       "      <td>0</td>\n",
       "      <td>1</td>\n",
       "      <td>60800</td>\n",
       "      <td>2022</td>\n",
       "      <td>5</td>\n",
       "      <td>1</td>\n",
       "    </tr>\n",
       "    <tr>\n",
       "      <th>793</th>\n",
       "      <td>2022-05-02</td>\n",
       "      <td>3129</td>\n",
       "      <td>873</td>\n",
       "      <td>28</td>\n",
       "      <td>0</td>\n",
       "      <td>1</td>\n",
       "      <td>2230</td>\n",
       "      <td>2856</td>\n",
       "      <td>57</td>\n",
       "      <td>4</td>\n",
       "      <td>...</td>\n",
       "      <td>0</td>\n",
       "      <td>132</td>\n",
       "      <td>169</td>\n",
       "      <td>3</td>\n",
       "      <td>0</td>\n",
       "      <td>1</td>\n",
       "      <td>60800</td>\n",
       "      <td>2022</td>\n",
       "      <td>5</td>\n",
       "      <td>2</td>\n",
       "    </tr>\n",
       "    <tr>\n",
       "      <th>794</th>\n",
       "      <td>2022-05-03</td>\n",
       "      <td>2457</td>\n",
       "      <td>928</td>\n",
       "      <td>0</td>\n",
       "      <td>3</td>\n",
       "      <td>1</td>\n",
       "      <td>2214</td>\n",
       "      <td>2885</td>\n",
       "      <td>47</td>\n",
       "      <td>3</td>\n",
       "      <td>...</td>\n",
       "      <td>1</td>\n",
       "      <td>131</td>\n",
       "      <td>171</td>\n",
       "      <td>3</td>\n",
       "      <td>0</td>\n",
       "      <td>0</td>\n",
       "      <td>60800</td>\n",
       "      <td>2022</td>\n",
       "      <td>5</td>\n",
       "      <td>3</td>\n",
       "    </tr>\n",
       "  </tbody>\n",
       "</table>\n",
       "<p>5 rows × 65 columns</p>\n",
       "</div>"
      ],
      "text/plain": [
       "    DATE_OF_INTEREST  CASE_COUNT  probable_case_count  HOSPITALIZED_COUNT  \\\n",
       "790       2022-04-29        2369                  585                  57   \n",
       "791       2022-04-30        1368                  516                  57   \n",
       "792       2022-05-01        1556                  576                  44   \n",
       "793       2022-05-02        3129                  873                  28   \n",
       "794       2022-05-03        2457                  928                   0   \n",
       "\n",
       "     DEATH_COUNT  DEATH_COUNT_PROBABLE  CASE_COUNT_7DAY_AVG  \\\n",
       "790            2                     0                 2110   \n",
       "791            6                     0                 2122   \n",
       "792            3                     1                 2153   \n",
       "793            0                     1                 2230   \n",
       "794            3                     1                 2214   \n",
       "\n",
       "     all_case_count_7day_avg  HOSP_COUNT_7DAY_AVG  DEATH_COUNT_7DAY_AVG  ...  \\\n",
       "790                     2685                   60                     4  ...   \n",
       "791                     2710                   61                     4  ...   \n",
       "792                     2760                   61                     4  ...   \n",
       "793                     2856                   57                     4  ...   \n",
       "794                     2885                   47                     3  ...   \n",
       "\n",
       "     si_probable_death_count  SI_CASE_COUNT_7DAY_AVG  \\\n",
       "790                        0                     134   \n",
       "791                        0                     137   \n",
       "792                        0                     129   \n",
       "793                        0                     132   \n",
       "794                        1                     131   \n",
       "\n",
       "     si_all_case_count_7day_avg  SI_HOSPITALIZED_COUNT_7DAY_AVG  \\\n",
       "790                         168                               4   \n",
       "791                         170                               4   \n",
       "792                         163                               4   \n",
       "793                         169                               3   \n",
       "794                         171                               3   \n",
       "\n",
       "     SI_DEATH_COUNT_7DAY_AVG  si_all_death_count_7day_avg  INCOMPLETE  YEAR  \\\n",
       "790                        0                            0       60800  2022   \n",
       "791                        1                            1       60800  2022   \n",
       "792                        0                            1       60800  2022   \n",
       "793                        0                            1       60800  2022   \n",
       "794                        0                            0       60800  2022   \n",
       "\n",
       "     MONTH  DAY  \n",
       "790      4   29  \n",
       "791      4   30  \n",
       "792      5    1  \n",
       "793      5    2  \n",
       "794      5    3  \n",
       "\n",
       "[5 rows x 65 columns]"
      ]
     },
     "execution_count": 7,
     "metadata": {},
     "output_type": "execute_result"
    }
   ],
   "source": [
    "#to check the YEAR, MONTH, DAY columns are created\n",
    "df.tail()"
   ]
  },
  {
   "cell_type": "code",
   "execution_count": 8,
   "metadata": {
    "scrolled": true
   },
   "outputs": [],
   "source": [
    "#The file includes data since 2/29/2020, the day when NYC has the first lab-confirmed COVID case, to 5/3/2022. Since it only has 3 days of May 2022 data, I'm going to drop the last 3 rows for a cleaner data.\n",
    "df = df.drop([792,793,794])"
   ]
  },
  {
   "cell_type": "code",
   "execution_count": 9,
   "metadata": {},
   "outputs": [],
   "source": [
    "#drop all the 'probable' columns\n",
    "drop_cols = ['probable_case_count',\n",
    "             'DEATH_COUNT_PROBABLE',\n",
    "             'bx_probable_case_count',\n",
    "             'bx_probable_death_count',\n",
    "             'bk_probable_case_count',\n",
    "             'bk_probable_death_count',\n",
    "             'mn_probable_case_count',\n",
    "             'mn_probable_death_count',\n",
    "             'qn_probable_case_count',\n",
    "             'qn_probable_death_count',\n",
    "             'si_probable_case_count',\n",
    "             'si_probable_death_count',\n",
    "             'INCOMPLETE']\n",
    "df.drop(drop_cols, inplace = True, axis=1)"
   ]
  },
  {
   "cell_type": "code",
   "execution_count": 10,
   "metadata": {},
   "outputs": [
    {
     "data": {
      "text/html": [
       "<div>\n",
       "<style scoped>\n",
       "    .dataframe tbody tr th:only-of-type {\n",
       "        vertical-align: middle;\n",
       "    }\n",
       "\n",
       "    .dataframe tbody tr th {\n",
       "        vertical-align: top;\n",
       "    }\n",
       "\n",
       "    .dataframe thead th {\n",
       "        text-align: right;\n",
       "    }\n",
       "</style>\n",
       "<table border=\"1\" class=\"dataframe\">\n",
       "  <thead>\n",
       "    <tr style=\"text-align: right;\">\n",
       "      <th></th>\n",
       "      <th>DATE_OF_INTEREST</th>\n",
       "      <th>CASE_COUNT</th>\n",
       "      <th>HOSPITALIZED_COUNT</th>\n",
       "      <th>DEATH_COUNT</th>\n",
       "      <th>CASE_COUNT_7DAY_AVG</th>\n",
       "      <th>all_case_count_7day_avg</th>\n",
       "      <th>HOSP_COUNT_7DAY_AVG</th>\n",
       "      <th>DEATH_COUNT_7DAY_AVG</th>\n",
       "      <th>all_death_count_7day_avg</th>\n",
       "      <th>BX_CASE_COUNT</th>\n",
       "      <th>...</th>\n",
       "      <th>SI_HOSPITALIZED_COUNT</th>\n",
       "      <th>SI_DEATH_COUNT</th>\n",
       "      <th>SI_CASE_COUNT_7DAY_AVG</th>\n",
       "      <th>si_all_case_count_7day_avg</th>\n",
       "      <th>SI_HOSPITALIZED_COUNT_7DAY_AVG</th>\n",
       "      <th>SI_DEATH_COUNT_7DAY_AVG</th>\n",
       "      <th>si_all_death_count_7day_avg</th>\n",
       "      <th>YEAR</th>\n",
       "      <th>MONTH</th>\n",
       "      <th>DAY</th>\n",
       "    </tr>\n",
       "  </thead>\n",
       "  <tbody>\n",
       "    <tr>\n",
       "      <th>787</th>\n",
       "      <td>2022-04-26</td>\n",
       "      <td>2568</td>\n",
       "      <td>71</td>\n",
       "      <td>7</td>\n",
       "      <td>1916</td>\n",
       "      <td>2420</td>\n",
       "      <td>59</td>\n",
       "      <td>4</td>\n",
       "      <td>4</td>\n",
       "      <td>244</td>\n",
       "      <td>...</td>\n",
       "      <td>4</td>\n",
       "      <td>1</td>\n",
       "      <td>136</td>\n",
       "      <td>168</td>\n",
       "      <td>6</td>\n",
       "      <td>0</td>\n",
       "      <td>0</td>\n",
       "      <td>2022</td>\n",
       "      <td>4</td>\n",
       "      <td>26</td>\n",
       "    </tr>\n",
       "    <tr>\n",
       "      <th>788</th>\n",
       "      <td>2022-04-27</td>\n",
       "      <td>2381</td>\n",
       "      <td>74</td>\n",
       "      <td>5</td>\n",
       "      <td>1960</td>\n",
       "      <td>2491</td>\n",
       "      <td>63</td>\n",
       "      <td>4</td>\n",
       "      <td>5</td>\n",
       "      <td>255</td>\n",
       "      <td>...</td>\n",
       "      <td>4</td>\n",
       "      <td>0</td>\n",
       "      <td>136</td>\n",
       "      <td>168</td>\n",
       "      <td>6</td>\n",
       "      <td>0</td>\n",
       "      <td>0</td>\n",
       "      <td>2022</td>\n",
       "      <td>4</td>\n",
       "      <td>27</td>\n",
       "    </tr>\n",
       "    <tr>\n",
       "      <th>789</th>\n",
       "      <td>2022-04-28</td>\n",
       "      <td>2241</td>\n",
       "      <td>66</td>\n",
       "      <td>4</td>\n",
       "      <td>2015</td>\n",
       "      <td>2570</td>\n",
       "      <td>64</td>\n",
       "      <td>4</td>\n",
       "      <td>5</td>\n",
       "      <td>206</td>\n",
       "      <td>...</td>\n",
       "      <td>2</td>\n",
       "      <td>0</td>\n",
       "      <td>136</td>\n",
       "      <td>169</td>\n",
       "      <td>5</td>\n",
       "      <td>0</td>\n",
       "      <td>0</td>\n",
       "      <td>2022</td>\n",
       "      <td>4</td>\n",
       "      <td>28</td>\n",
       "    </tr>\n",
       "    <tr>\n",
       "      <th>790</th>\n",
       "      <td>2022-04-29</td>\n",
       "      <td>2369</td>\n",
       "      <td>57</td>\n",
       "      <td>2</td>\n",
       "      <td>2110</td>\n",
       "      <td>2685</td>\n",
       "      <td>60</td>\n",
       "      <td>4</td>\n",
       "      <td>4</td>\n",
       "      <td>199</td>\n",
       "      <td>...</td>\n",
       "      <td>5</td>\n",
       "      <td>0</td>\n",
       "      <td>134</td>\n",
       "      <td>168</td>\n",
       "      <td>4</td>\n",
       "      <td>0</td>\n",
       "      <td>0</td>\n",
       "      <td>2022</td>\n",
       "      <td>4</td>\n",
       "      <td>29</td>\n",
       "    </tr>\n",
       "    <tr>\n",
       "      <th>791</th>\n",
       "      <td>2022-04-30</td>\n",
       "      <td>1368</td>\n",
       "      <td>57</td>\n",
       "      <td>6</td>\n",
       "      <td>2122</td>\n",
       "      <td>2710</td>\n",
       "      <td>61</td>\n",
       "      <td>4</td>\n",
       "      <td>5</td>\n",
       "      <td>107</td>\n",
       "      <td>...</td>\n",
       "      <td>5</td>\n",
       "      <td>2</td>\n",
       "      <td>137</td>\n",
       "      <td>170</td>\n",
       "      <td>4</td>\n",
       "      <td>1</td>\n",
       "      <td>1</td>\n",
       "      <td>2022</td>\n",
       "      <td>4</td>\n",
       "      <td>30</td>\n",
       "    </tr>\n",
       "  </tbody>\n",
       "</table>\n",
       "<p>5 rows × 52 columns</p>\n",
       "</div>"
      ],
      "text/plain": [
       "    DATE_OF_INTEREST  CASE_COUNT  HOSPITALIZED_COUNT  DEATH_COUNT  \\\n",
       "787       2022-04-26        2568                  71            7   \n",
       "788       2022-04-27        2381                  74            5   \n",
       "789       2022-04-28        2241                  66            4   \n",
       "790       2022-04-29        2369                  57            2   \n",
       "791       2022-04-30        1368                  57            6   \n",
       "\n",
       "     CASE_COUNT_7DAY_AVG  all_case_count_7day_avg  HOSP_COUNT_7DAY_AVG  \\\n",
       "787                 1916                     2420                   59   \n",
       "788                 1960                     2491                   63   \n",
       "789                 2015                     2570                   64   \n",
       "790                 2110                     2685                   60   \n",
       "791                 2122                     2710                   61   \n",
       "\n",
       "     DEATH_COUNT_7DAY_AVG  all_death_count_7day_avg  BX_CASE_COUNT  ...  \\\n",
       "787                     4                         4            244  ...   \n",
       "788                     4                         5            255  ...   \n",
       "789                     4                         5            206  ...   \n",
       "790                     4                         4            199  ...   \n",
       "791                     4                         5            107  ...   \n",
       "\n",
       "     SI_HOSPITALIZED_COUNT  SI_DEATH_COUNT  SI_CASE_COUNT_7DAY_AVG  \\\n",
       "787                      4               1                     136   \n",
       "788                      4               0                     136   \n",
       "789                      2               0                     136   \n",
       "790                      5               0                     134   \n",
       "791                      5               2                     137   \n",
       "\n",
       "     si_all_case_count_7day_avg  SI_HOSPITALIZED_COUNT_7DAY_AVG  \\\n",
       "787                         168                               6   \n",
       "788                         168                               6   \n",
       "789                         169                               5   \n",
       "790                         168                               4   \n",
       "791                         170                               4   \n",
       "\n",
       "     SI_DEATH_COUNT_7DAY_AVG  si_all_death_count_7day_avg  YEAR  MONTH  DAY  \n",
       "787                        0                            0  2022      4   26  \n",
       "788                        0                            0  2022      4   27  \n",
       "789                        0                            0  2022      4   28  \n",
       "790                        0                            0  2022      4   29  \n",
       "791                        1                            1  2022      4   30  \n",
       "\n",
       "[5 rows x 52 columns]"
      ]
     },
     "execution_count": 10,
     "metadata": {},
     "output_type": "execute_result"
    }
   ],
   "source": [
    "#to check I have those rows and columns dropped\n",
    "df.tail()"
   ]
  },
  {
   "cell_type": "code",
   "execution_count": 11,
   "metadata": {},
   "outputs": [
    {
     "data": {
      "text/plain": [
       "2025939"
      ]
     },
     "execution_count": 11,
     "metadata": {},
     "output_type": "execute_result"
    }
   ],
   "source": [
    "#NYC confirmed case total\n",
    "df.CASE_COUNT.sum()"
   ]
  },
  {
   "cell_type": "code",
   "execution_count": 12,
   "metadata": {},
   "outputs": [],
   "source": [
    "#creating a new dataframe with columns related to different boroughs confirmed case count\n",
    "boro_case_count = df[['DATE_OF_INTEREST', 'BX_CASE_COUNT', 'BK_CASE_COUNT','MN_CASE_COUNT','QN_CASE_COUNT','SI_CASE_COUNT']]"
   ]
  },
  {
   "cell_type": "code",
   "execution_count": 13,
   "metadata": {
    "scrolled": false
   },
   "outputs": [
    {
     "name": "stdout",
     "output_type": "stream",
     "text": [
      "<class 'pandas.core.frame.DataFrame'>\n",
      "Int64Index: 792 entries, 0 to 791\n",
      "Data columns (total 6 columns):\n",
      " #   Column            Non-Null Count  Dtype         \n",
      "---  ------            --------------  -----         \n",
      " 0   DATE_OF_INTEREST  792 non-null    datetime64[ns]\n",
      " 1   BX_CASE_COUNT     792 non-null    int64         \n",
      " 2   BK_CASE_COUNT     792 non-null    int64         \n",
      " 3   MN_CASE_COUNT     792 non-null    int64         \n",
      " 4   QN_CASE_COUNT     792 non-null    int64         \n",
      " 5   SI_CASE_COUNT     792 non-null    int64         \n",
      "dtypes: datetime64[ns](1), int64(5)\n",
      "memory usage: 43.3 KB\n"
     ]
    }
   ],
   "source": [
    "#checking I have the needed columns\n",
    "boro_case_count.info()"
   ]
  },
  {
   "cell_type": "code",
   "execution_count": 14,
   "metadata": {},
   "outputs": [],
   "source": [
    "#renaming the column names\n",
    "boro_case_count1 = boro_case_count.rename(columns={'DATE_OF_INTEREST':'Date Tested','BX_CASE_COUNT':'Bronx','BK_CASE_COUNT':'Brooklyn','MN_CASE_COUNT':'Manhattan','QN_CASE_COUNT':'Queens','SI_CASE_COUNT':'Staten_Island'})"
   ]
  },
  {
   "cell_type": "code",
   "execution_count": 15,
   "metadata": {
    "scrolled": false
   },
   "outputs": [
    {
     "data": {
      "text/plain": [
       "Bronx            344561\n",
       "Brooklyn         615178\n",
       "Manhattan        358692\n",
       "Queens           560119\n",
       "Staten_Island    146867\n",
       "dtype: int64"
      ]
     },
     "execution_count": 15,
     "metadata": {},
     "output_type": "execute_result"
    }
   ],
   "source": [
    "#checking the sum of each boroughs and also checking I renamed the columns correctly\n",
    "boro_case_count1.sum()"
   ]
  },
  {
   "cell_type": "code",
   "execution_count": 16,
   "metadata": {
    "scrolled": true
   },
   "outputs": [
    {
     "data": {
      "text/plain": [
       "Text(0, 0.5, 'Confirmed Case Count')"
      ]
     },
     "execution_count": 16,
     "metadata": {},
     "output_type": "execute_result"
    },
    {
     "data": {
      "image/png": "[encoded data removed]",
      "text/plain": [
       "<Figure size 432x288 with 1 Axes>"
      ]
     },
     "metadata": {
      "needs_background": "light"
     },
     "output_type": "display_data"
    }
   ],
   "source": [
    "#Create a bar plot to show the sum of each borough confirmed cases\n",
    "boro_case_count1.sum().plot(kind='bar')\n",
    "\n",
    "#Add title and axis names\n",
    "plt.title('Total COVID Cases in 5 Boroughs')\n",
    "plt.xlabel('Borough')\n",
    "plt.ylabel('Confirmed Case Count')"
   ]
  },
  {
   "cell_type": "code",
   "execution_count": 17,
   "metadata": {
    "scrolled": false
   },
   "outputs": [
    {
     "data": {
      "text/plain": [
       "Text(0, 0.5, '')"
      ]
     },
     "execution_count": 17,
     "metadata": {},
     "output_type": "execute_result"
    },
    {
     "data": {
      "image/png": "[encoded data removed]",
      "text/plain": [
       "<Figure size 432x288 with 1 Axes>"
      ]
     },
     "metadata": {},
     "output_type": "display_data"
    }
   ],
   "source": [
    "#Create a pie chart to show the Boroughs confirmed case count\n",
    "boro_case_count1.sum().plot(kind='pie' , title=\"Total case count\")\n",
    "#remove the y axis label that says \"none\"\n",
    "plt.ylabel('')"
   ]
  },
  {
   "cell_type": "markdown",
   "metadata": {},
   "source": [
    "From the charts above we can clearly see Brooklyn has the highest confirmed cases among 5 boroughs, and is followed by Queens, Manhattan, Bronx. Staten Island has the lowest confirmed cases."
   ]
  },
  {
   "cell_type": "code",
   "execution_count": 18,
   "metadata": {
    "scrolled": true
   },
   "outputs": [
    {
     "data": {
      "text/plain": [
       "YEAR\n",
       "2020     6353\n",
       "2021    51172\n",
       "2022    54834\n",
       "Name: CASE_COUNT, dtype: int64"
      ]
     },
     "execution_count": 18,
     "metadata": {},
     "output_type": "execute_result"
    }
   ],
   "source": [
    "#Show the highest number of confirmed cases in a day of each year\n",
    "df.groupby(['YEAR'])['CASE_COUNT'].max()"
   ]
  },
  {
   "cell_type": "code",
   "execution_count": 19,
   "metadata": {
    "scrolled": true
   },
   "outputs": [
    {
     "data": {
      "text/html": [
       "<div>\n",
       "<style scoped>\n",
       "    .dataframe tbody tr th:only-of-type {\n",
       "        vertical-align: middle;\n",
       "    }\n",
       "\n",
       "    .dataframe tbody tr th {\n",
       "        vertical-align: top;\n",
       "    }\n",
       "\n",
       "    .dataframe thead th {\n",
       "        text-align: right;\n",
       "    }\n",
       "</style>\n",
       "<table border=\"1\" class=\"dataframe\">\n",
       "  <thead>\n",
       "    <tr style=\"text-align: right;\">\n",
       "      <th></th>\n",
       "      <th>DATE_OF_INTEREST</th>\n",
       "      <th>CASE_COUNT</th>\n",
       "      <th>YEAR</th>\n",
       "    </tr>\n",
       "  </thead>\n",
       "  <tbody>\n",
       "    <tr>\n",
       "      <th>674</th>\n",
       "      <td>2022-01-03</td>\n",
       "      <td>54834</td>\n",
       "      <td>2022</td>\n",
       "    </tr>\n",
       "    <tr>\n",
       "      <th>667</th>\n",
       "      <td>2021-12-27</td>\n",
       "      <td>51172</td>\n",
       "      <td>2021</td>\n",
       "    </tr>\n",
       "    <tr>\n",
       "      <th>669</th>\n",
       "      <td>2021-12-29</td>\n",
       "      <td>50373</td>\n",
       "      <td>2021</td>\n",
       "    </tr>\n",
       "    <tr>\n",
       "      <th>668</th>\n",
       "      <td>2021-12-28</td>\n",
       "      <td>49407</td>\n",
       "      <td>2021</td>\n",
       "    </tr>\n",
       "    <tr>\n",
       "      <th>675</th>\n",
       "      <td>2022-01-04</td>\n",
       "      <td>49035</td>\n",
       "      <td>2022</td>\n",
       "    </tr>\n",
       "    <tr>\n",
       "      <th>676</th>\n",
       "      <td>2022-01-05</td>\n",
       "      <td>40127</td>\n",
       "      <td>2022</td>\n",
       "    </tr>\n",
       "    <tr>\n",
       "      <th>37</th>\n",
       "      <td>2020-04-06</td>\n",
       "      <td>6353</td>\n",
       "      <td>2020</td>\n",
       "    </tr>\n",
       "    <tr>\n",
       "      <th>30</th>\n",
       "      <td>2020-03-30</td>\n",
       "      <td>6129</td>\n",
       "      <td>2020</td>\n",
       "    </tr>\n",
       "    <tr>\n",
       "      <th>38</th>\n",
       "      <td>2020-04-07</td>\n",
       "      <td>6044</td>\n",
       "      <td>2020</td>\n",
       "    </tr>\n",
       "  </tbody>\n",
       "</table>\n",
       "</div>"
      ],
      "text/plain": [
       "    DATE_OF_INTEREST  CASE_COUNT  YEAR\n",
       "674       2022-01-03       54834  2022\n",
       "667       2021-12-27       51172  2021\n",
       "669       2021-12-29       50373  2021\n",
       "668       2021-12-28       49407  2021\n",
       "675       2022-01-04       49035  2022\n",
       "676       2022-01-05       40127  2022\n",
       "37        2020-04-06        6353  2020\n",
       "30        2020-03-30        6129  2020\n",
       "38        2020-04-07        6044  2020"
      ]
     },
     "execution_count": 19,
     "metadata": {},
     "output_type": "execute_result"
    }
   ],
   "source": [
    "#Show the top 3 dates from each year with the highest confirmed cases.\n",
    "df_confirmedcase = df[['DATE_OF_INTEREST','CASE_COUNT','YEAR']]\n",
    "df_confirmedcase.sort_values(['CASE_COUNT','DATE_OF_INTEREST'],ascending=False).groupby('YEAR').head(3)"
   ]
  },
  {
   "cell_type": "markdown",
   "metadata": {},
   "source": [
    "The date with the highest confirmed case in 2022 was 1/3/2022.<br>\n",
    "The date with the highest confirmed case in 2021 was 12/27/2021.<br>\n",
    "The date with the highest confirmed case in 2020 was 4/6/2020.\n"
   ]
  },
  {
   "cell_type": "code",
   "execution_count": 20,
   "metadata": {},
   "outputs": [
    {
     "data": {
      "text/html": [
       "<div>\n",
       "<style scoped>\n",
       "    .dataframe tbody tr th:only-of-type {\n",
       "        vertical-align: middle;\n",
       "    }\n",
       "\n",
       "    .dataframe tbody tr th {\n",
       "        vertical-align: top;\n",
       "    }\n",
       "\n",
       "    .dataframe thead th {\n",
       "        text-align: right;\n",
       "    }\n",
       "</style>\n",
       "<table border=\"1\" class=\"dataframe\">\n",
       "  <thead>\n",
       "    <tr style=\"text-align: right;\">\n",
       "      <th></th>\n",
       "      <th>DATE_OF_INTEREST</th>\n",
       "      <th>CASE_COUNT_7DAY_AVG</th>\n",
       "      <th>YEAR</th>\n",
       "    </tr>\n",
       "  </thead>\n",
       "  <tbody>\n",
       "    <tr>\n",
       "      <th>674</th>\n",
       "      <td>2022-01-03</td>\n",
       "      <td>39309</td>\n",
       "      <td>2022</td>\n",
       "    </tr>\n",
       "    <tr>\n",
       "      <th>671</th>\n",
       "      <td>2021-12-31</td>\n",
       "      <td>36828</td>\n",
       "      <td>2021</td>\n",
       "    </tr>\n",
       "    <tr>\n",
       "      <th>39</th>\n",
       "      <td>2020-04-08</td>\n",
       "      <td>5291</td>\n",
       "      <td>2020</td>\n",
       "    </tr>\n",
       "  </tbody>\n",
       "</table>\n",
       "</div>"
      ],
      "text/plain": [
       "    DATE_OF_INTEREST  CASE_COUNT_7DAY_AVG  YEAR\n",
       "674       2022-01-03                39309  2022\n",
       "671       2021-12-31                36828  2021\n",
       "39        2020-04-08                 5291  2020"
      ]
     },
     "execution_count": 20,
     "metadata": {},
     "output_type": "execute_result"
    }
   ],
   "source": [
    "#Show the top date from each year with the highest 7 days average confirmed case count\n",
    "df_7dayavg = df[['DATE_OF_INTEREST','CASE_COUNT_7DAY_AVG','YEAR']]\n",
    "df_7dayavg.sort_values(['CASE_COUNT_7DAY_AVG','DATE_OF_INTEREST'],ascending=False).groupby('YEAR').head(1)"
   ]
  },
  {
   "cell_type": "code",
   "execution_count": 21,
   "metadata": {},
   "outputs": [
    {
     "data": {
      "text/plain": [
       "CASE_COUNT_7DAY_AVG    2550.079545\n",
       "YEAR                   2020.763889\n",
       "dtype: float64"
      ]
     },
     "execution_count": 21,
     "metadata": {},
     "output_type": "execute_result"
    }
   ],
   "source": [
    "#the average count of \"7 days average case count\".\n",
    "df_7dayavg.mean()"
   ]
  },
  {
   "cell_type": "code",
   "execution_count": 22,
   "metadata": {
    "scrolled": true
   },
   "outputs": [
    {
     "data": {
      "text/plain": [
       "<matplotlib.axes._subplots.AxesSubplot at 0x13390e50>"
      ]
     },
     "execution_count": 22,
     "metadata": {},
     "output_type": "execute_result"
    },
    {
     "data": {
      "image/png": "[encoded data removed]",
      "text/plain": [
       "<Figure size 432x288 with 1 Axes>"
      ]
     },
     "metadata": {
      "needs_background": "light"
     },
     "output_type": "display_data"
    }
   ],
   "source": [
    "#distplot with 7 days average\n",
    "sns.distplot(df['CASE_COUNT_7DAY_AVG'])"
   ]
  },
  {
   "cell_type": "markdown",
   "metadata": {},
   "source": [
    "The above plot shows how most of the 7 days average case counts are around 2000 range. "
   ]
  },
  {
   "cell_type": "code",
   "execution_count": 24,
   "metadata": {},
   "outputs": [],
   "source": [
    "#setting the columns that I will want to use as x and y axis in the plot I'm going to create in next step\n",
    "x_date = df['DATE_OF_INTEREST']\n",
    "y_case = df['CASE_COUNT']"
   ]
  },
  {
   "cell_type": "code",
   "execution_count": 25,
   "metadata": {
    "scrolled": false
   },
   "outputs": [
    {
     "data": {
      "text/plain": [
       "Text(0, 0.5, 'Confirmed Case Count')"
      ]
     },
     "execution_count": 25,
     "metadata": {},
     "output_type": "execute_result"
    },
    {
     "data": {
      "image/png": "[encoded data removed]",
      "text/plain": [
       "<Figure size 1296x720 with 1 Axes>"
      ]
     },
     "metadata": {
      "needs_background": "light"
     },
     "output_type": "display_data"
    }
   ],
   "source": [
    "#create a figure and one subplot\n",
    "fig, ax = plt.subplots(figsize=(18, 10))\n",
    "ax.plot(x_date, y_case)\n",
    "\n",
    "#Add title and axis names\n",
    "plt.title('NYC COVID cases over the time')\n",
    "plt.xlabel('Date')\n",
    "plt.ylabel('Confirmed Case Count')"
   ]
  },
  {
   "cell_type": "markdown",
   "metadata": {},
   "source": [
    "Cases increased in 4/2020, 1/2021, and reached the peak in 1/2022. In 2/2022, the confirmed case count slowed down and decreased to less than one tenth of its peak count.<br> On 1/19,  Americans could order free at-home rapid test from the government and tests would be shipped in 7-12 days. Positive home test result are not reported, so it also had a direct impact on the decrease of confirmed case count.<br> At the end of 4/2022, cases start to increase again."
   ]
  },
  {
   "cell_type": "code",
   "execution_count": 26,
   "metadata": {},
   "outputs": [
    {
     "data": {
      "text/html": [
       "<div>\n",
       "<style scoped>\n",
       "    .dataframe tbody tr th:only-of-type {\n",
       "        vertical-align: middle;\n",
       "    }\n",
       "\n",
       "    .dataframe tbody tr th {\n",
       "        vertical-align: top;\n",
       "    }\n",
       "\n",
       "    .dataframe thead th {\n",
       "        text-align: right;\n",
       "    }\n",
       "</style>\n",
       "<table border=\"1\" class=\"dataframe\">\n",
       "  <thead>\n",
       "    <tr style=\"text-align: right;\">\n",
       "      <th></th>\n",
       "      <th>DATE_OF_INTEREST</th>\n",
       "      <th>HOSPITALIZED_COUNT</th>\n",
       "      <th>YEAR</th>\n",
       "    </tr>\n",
       "  </thead>\n",
       "  <tbody>\n",
       "    <tr>\n",
       "      <th>30</th>\n",
       "      <td>2020-03-30</td>\n",
       "      <td>1850</td>\n",
       "      <td>2020</td>\n",
       "    </tr>\n",
       "    <tr>\n",
       "      <th>673</th>\n",
       "      <td>2022-01-02</td>\n",
       "      <td>1316</td>\n",
       "      <td>2022</td>\n",
       "    </tr>\n",
       "    <tr>\n",
       "      <th>670</th>\n",
       "      <td>2021-12-30</td>\n",
       "      <td>1055</td>\n",
       "      <td>2021</td>\n",
       "    </tr>\n",
       "  </tbody>\n",
       "</table>\n",
       "</div>"
      ],
      "text/plain": [
       "    DATE_OF_INTEREST  HOSPITALIZED_COUNT  YEAR\n",
       "30        2020-03-30                1850  2020\n",
       "673       2022-01-02                1316  2022\n",
       "670       2021-12-30                1055  2021"
      ]
     },
     "execution_count": 26,
     "metadata": {},
     "output_type": "execute_result"
    }
   ],
   "source": [
    "#Show the top date from each year with the highest hospitalized.\n",
    "df_hospitalized = df[['DATE_OF_INTEREST','HOSPITALIZED_COUNT','YEAR']]\n",
    "df_hospitalized.sort_values(['HOSPITALIZED_COUNT','DATE_OF_INTEREST'],ascending=False).groupby('YEAR').head(1)"
   ]
  },
  {
   "cell_type": "code",
   "execution_count": 27,
   "metadata": {},
   "outputs": [],
   "source": [
    "#setting the columns that I will want to use as y axis in the plots I'm going to create in next few steps\n",
    "y_hosp = df['HOSPITALIZED_COUNT']\n",
    "y_death = df['DEATH_COUNT']"
   ]
  },
  {
   "cell_type": "code",
   "execution_count": 28,
   "metadata": {
    "scrolled": true
   },
   "outputs": [
    {
     "data": {
      "text/plain": [
       "Text(0, 0.5, 'Hospitalized Count')"
      ]
     },
     "execution_count": 28,
     "metadata": {},
     "output_type": "execute_result"
    },
    {
     "data": {
      "image/png": "[encoded data removed]",
      "text/plain": [
       "<Figure size 1296x720 with 1 Axes>"
      ]
     },
     "metadata": {
      "needs_background": "light"
     },
     "output_type": "display_data"
    }
   ],
   "source": [
    "#create a figure and one subplot for hospitalization\n",
    "fig, ax2 = plt.subplots(figsize=(18, 10))\n",
    "ax2.plot(x_date, y_hosp)\n",
    "\n",
    "#Add title and axis names\n",
    "plt.title('COVID Hospitalized Case over the time')\n",
    "plt.xlabel('Date')\n",
    "plt.ylabel('Hospitalized Count')"
   ]
  },
  {
   "cell_type": "markdown",
   "metadata": {},
   "source": [
    "Even though in Jan 2022, COVID confirmed cases reached 40k a day, but hospitalization rate was relatively low comparing to the confirmed case count, the highest was around 1250. Back in April 2020, when COVID just hit NYC, there were more than 1750 cases on the highest count day."
   ]
  },
  {
   "cell_type": "code",
   "execution_count": 29,
   "metadata": {},
   "outputs": [
    {
     "data": {
      "text/html": [
       "<div>\n",
       "<style scoped>\n",
       "    .dataframe tbody tr th:only-of-type {\n",
       "        vertical-align: middle;\n",
       "    }\n",
       "\n",
       "    .dataframe tbody tr th {\n",
       "        vertical-align: top;\n",
       "    }\n",
       "\n",
       "    .dataframe thead th {\n",
       "        text-align: right;\n",
       "    }\n",
       "</style>\n",
       "<table border=\"1\" class=\"dataframe\">\n",
       "  <thead>\n",
       "    <tr style=\"text-align: right;\">\n",
       "      <th></th>\n",
       "      <th>DATE_OF_INTEREST</th>\n",
       "      <th>DEATH_COUNT</th>\n",
       "      <th>YEAR</th>\n",
       "    </tr>\n",
       "  </thead>\n",
       "  <tbody>\n",
       "    <tr>\n",
       "      <th>38</th>\n",
       "      <td>2020-04-07</td>\n",
       "      <td>598</td>\n",
       "      <td>2020</td>\n",
       "    </tr>\n",
       "    <tr>\n",
       "      <th>682</th>\n",
       "      <td>2022-01-11</td>\n",
       "      <td>131</td>\n",
       "      <td>2022</td>\n",
       "    </tr>\n",
       "    <tr>\n",
       "      <th>348</th>\n",
       "      <td>2021-02-11</td>\n",
       "      <td>96</td>\n",
       "      <td>2021</td>\n",
       "    </tr>\n",
       "  </tbody>\n",
       "</table>\n",
       "</div>"
      ],
      "text/plain": [
       "    DATE_OF_INTEREST  DEATH_COUNT  YEAR\n",
       "38        2020-04-07          598  2020\n",
       "682       2022-01-11          131  2022\n",
       "348       2021-02-11           96  2021"
      ]
     },
     "execution_count": 29,
     "metadata": {},
     "output_type": "execute_result"
    }
   ],
   "source": [
    "#Show the top date from each year with the highest death.\n",
    "df_death = df[['DATE_OF_INTEREST','DEATH_COUNT','YEAR']]\n",
    "df_death.sort_values(['DEATH_COUNT','DATE_OF_INTEREST'],ascending=False).groupby('YEAR').head(1)"
   ]
  },
  {
   "cell_type": "code",
   "execution_count": 30,
   "metadata": {},
   "outputs": [
    {
     "data": {
      "text/plain": [
       "Text(0, 0.5, 'Death Count')"
      ]
     },
     "execution_count": 30,
     "metadata": {},
     "output_type": "execute_result"
    },
    {
     "data": {
      "image/png": "[encoded data removed]",
      "text/plain": [
       "<Figure size 1296x720 with 1 Axes>"
      ]
     },
     "metadata": {
      "needs_background": "light"
     },
     "output_type": "display_data"
    }
   ],
   "source": [
    "#create a figure and one subplot for death count\n",
    "fig, ax3 = plt.subplots(figsize=(18, 10))\n",
    "ax3.plot(x_date, y_death)\n",
    "\n",
    "#Add title and axis names\n",
    "plt.title('COVID Death Cases over the time')\n",
    "plt.xlabel('Date')\n",
    "plt.ylabel('Death Count')"
   ]
  },
  {
   "cell_type": "markdown",
   "metadata": {},
   "source": [
    "In above plot, it showed April 2020 had the highest death count in a day. It looks similar to the previous Hospitalization plot. It was because comparing the what first hit NYC, COVID has mutant to different variant, which was much more contagious but much less deadly."
   ]
  },
  {
   "cell_type": "markdown",
   "metadata": {},
   "source": [
    "In conclusion, besides when COVID first hit NYC, December to February are the months that we need to watch out as there are higher confirmed cases around those time.<br><br>\n",
    "Even though COVID is still in NYC among us, it is so much different from what it was at the beginning of the pandemic, as we have vaccines and the death rate decreased.<br><br>\n",
    "Things won’t go back to how they were pre-pandemic, and we don’t know when the pandemic will end, what we can do is continue to maintain good hygiene."
   ]
  }
 ],
 "metadata": {
  "kernelspec": {
   "display_name": "Python 3",
   "language": "python",
   "name": "python3"
  },
  "language_info": {
   "codemirror_mode": {
    "name": "ipython",
    "version": 3
   },
   "file_extension": ".py",
   "mimetype": "text/x-python",
   "name": "python",
   "nbconvert_exporter": "python",
   "pygments_lexer": "ipython3",
   "version": "3.7.6"
  }
 },
 "nbformat": 4,
 "nbformat_minor": 4
}
